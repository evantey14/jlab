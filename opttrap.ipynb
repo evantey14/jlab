{
 "cells": [
  {
   "cell_type": "code",
   "execution_count": 1,
   "metadata": {},
   "outputs": [],
   "source": [
    "import pandas as pd\n",
    "import numpy as np\n",
    "import math\n",
    "import scipy.optimize as opt\n",
    "import matplotlib\n",
    "import matplotlib.pyplot as plt\n",
    "import utils\n",
    "%matplotlib inline"
   ]
  },
  {
   "cell_type": "code",
   "execution_count": 2,
   "metadata": {},
   "outputs": [],
   "source": [
    "FIXED_DATA = ['3u_fixed_x_1.txt', '3mf_I=74.9_A=3_f=.5_tot=2.txt']\n",
    "FLOATING_DATA = ['3ml_I=744.9_r=5000_tot=1.txt', '3ml_I=744.9_r=5000_tot=1 2.txt']\n",
    "\n",
    "def load_data(file):\n",
    "    return pd.read_csv(file, delim_whitespace = True, names=['qpdx', 'qpdy', 'sgx', 'sgy'])"
   ]
  },
  {
   "cell_type": "code",
   "execution_count": 3,
   "metadata": {},
   "outputs": [],
   "source": [
    "def linear(x, a, b):\n",
    "    return a*x + b"
   ]
  },
  {
   "cell_type": "code",
   "execution_count": 4,
   "metadata": {},
   "outputs": [
    {
     "name": "stdout",
     "output_type": "stream",
     "text": [
      "2.00649763858 0.00344812153631 1.99847730238 0.0034832531991\n"
     ]
    }
   ],
   "source": [
    "# Find strain gauge voltage to distance conversion factors kx and ky\n",
    "# data recorded by hand \n",
    "vx = [5.058, 5.076, 5.1, 5.122, 5.15, 5.165, 5.187, 5.215]\n",
    "x = [10.116, 10.152, 10.2, 10.245, 10.299, 10.331, 10.375, 10.431]\n",
    "popt, perr, redchisq = utils.fit_model(vx, x, [5e-4]*len(vx), (2, 0), linear)\n",
    "#print(redchisq)\n",
    "kx = popt[0]\n",
    "ekx = perr[0]\n",
    "\n",
    "vy = [4.992, 5.012, 5.029, 5.055, 5.084, 5.109, 5.123, 5.139]\n",
    "y = [9.985, 10.024, 10.059, 10.111, 10.168, 10.219, 10.247, 10.278]\n",
    "popt, perr, redchisq = utils.fit_model(vy, y, [5e-4]*len(vx), (2, 0), linear)\n",
    "#print(redchisq)\n",
    "ky = popt[0]\n",
    "eky = perr[0]\n",
    "\n",
    "print(kx, ekx, ky, eky)"
   ]
  },
  {
   "cell_type": "code",
   "execution_count": 32,
   "metadata": {},
   "outputs": [
    {
     "name": "stdout",
     "output_type": "stream",
     "text": [
      "236.319486099\n",
      "[-0.05602023  0.29465132]\n"
     ]
    },
    {
     "data": {
      "image/png": "[encoded data removed]",
      "text/plain": [
       "<matplotlib.figure.Figure at 0x7f03a32564e0>"
      ]
     },
     "metadata": {},
     "output_type": "display_data"
    }
   ],
   "source": [
    "# Find qpd voltage to distance conversion factors qx and qy as functions of laser power\n",
    "\n",
    "floating_data = load_data('opttrap/' + FIXED_DATA[0])\n",
    "floating_data['bin'] = pd.cut(floating_data['sgx'], bins=100)\n",
    "#print(floating_data.info())\n",
    "\n",
    "meanbin = floating_data.groupby('bin').mean()\n",
    "stdbin = floating_data.groupby('bin').std()/1000**.5 # TODO: discuss if this is an accurate description of error\n",
    "#print(meanbin.info())\n",
    "\n",
    "SG1 = 42\n",
    "SG2 = 53\n",
    "\n",
    "popt, perr, redchisq = utils.fit_model(meanbin['sgx'][SG1:SG2], meanbin['qpdx'][SG1:SG2], stdbin['qpdx'][SG1:SG2], (-1, 10), linear)\n",
    "print(redchisq)\n",
    "print(popt)\n",
    "\n",
    "utils.plot_data(meanbin['sgx'][SG1:SG2], meanbin['qpdx'][SG1:SG2], stdbin['qpdx'][SG1:SG2])\n",
    "utils.plot_model(meanbin['sgx'][SG1:SG2], linear, popt, 'r', '')\n",
    "plt.show()"
   ]
  }
 ],
 "metadata": {
  "kernelspec": {
   "display_name": "Python 3",
   "language": "python",
   "name": "python3"
  },
  "language_info": {
   "codemirror_mode": {
    "name": "ipython",
    "version": 3
   },
   "file_extension": ".py",
   "mimetype": "text/x-python",
   "name": "python",
   "nbconvert_exporter": "python",
   "pygments_lexer": "ipython3",
   "version": "3.6.2"
  }
 },
 "nbformat": 4,
 "nbformat_minor": 2
}
