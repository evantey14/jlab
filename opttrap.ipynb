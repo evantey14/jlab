{
 "cells": [
  {
   "cell_type": "code",
   "execution_count": 2,
   "metadata": {},
   "outputs": [],
   "source": [
    "import pandas as pd\n",
    "import numpy as np\n",
    "import math\n",
    "import scipy.optimize as opt\n",
    "import matplotlib\n",
    "import matplotlib.pyplot as plt\n",
    "import utils\n",
    "%matplotlib inline"
   ]
  },
  {
   "cell_type": "code",
   "execution_count": 3,
   "metadata": {},
   "outputs": [],
   "source": [
    "FIXED_DATA = ['3u_fixed_x_1.txt', '3mf_I=74.9_A=3_f=.5_tot=2.txt']\n",
    "FLOATING_DATA = ['3ml_I=744.9_r=5000_tot=1.txt', '3ml_I=744.9_r=5000_tot=1 2.txt']\n",
    "\n",
    "def load_data(file):\n",
    "    return pd.read_csv(file, delim_whitespace = True, names=['qpdx', 'qpdy', 'sgx', 'sgy'])"
   ]
  },
  {
   "cell_type": "code",
   "execution_count": 4,
   "metadata": {},
   "outputs": [],
   "source": [
    "def linear(x, a, b):\n",
    "    return a*x + b"
   ]
  },
  {
   "cell_type": "code",
   "execution_count": 5,
   "metadata": {},
   "outputs": [
    {
     "name": "stdout",
     "output_type": "stream",
     "text": [
      "kx =  2.00649763858 +/- 0.00344812153631 lengths/volts\n",
      "ky =  1.99847730238 +/- 0.0034832531991 lengths/volts\n"
     ]
    }
   ],
   "source": [
    "# STRAIN GAUGE CALIBRATION\n",
    "# Find strain gauge voltage to distance conversion factors kx and ky\n",
    "# data recorded by hand\n",
    "vx = [5.058, 5.076, 5.1, 5.122, 5.15, 5.165, 5.187, 5.215]\n",
    "x = [10.116, 10.152, 10.2, 10.245, 10.299, 10.331, 10.375, 10.431]\n",
    "popt, perr, redchisq = utils.fit_model(vx, x, [5e-4]*len(vx), (2, 0), linear)\n",
    "#print(redchisq)\n",
    "kx = popt[0]\n",
    "ekx = perr[0]\n",
    "\n",
    "vy = [4.992, 5.012, 5.029, 5.055, 5.084, 5.109, 5.123, 5.139]\n",
    "y = [9.985, 10.024, 10.059, 10.111, 10.168, 10.219, 10.247, 10.278]\n",
    "popt, perr, redchisq = utils.fit_model(vy, y, [5e-4]*len(vx), (2, 0), linear)\n",
    "#print(redchisq)\n",
    "ky = popt[0]\n",
    "eky = perr[0]\n",
    "\n",
    "print('kx = ', kx, '+/-', ekx, 'lengths/volts')\n",
    "print('ky = ', ky, '+/-', eky, 'lengths/volts')"
   ]
  },
  {
   "cell_type": "code",
   "execution_count": 6,
   "metadata": {
    "collapsed": true
   },
   "outputs": [
    {
     "name": "stdout",
     "output_type": "stream",
     "text": [
      "236.319486099\n",
      "qx =  35.8173775897 +/- 0.00219381414467  lengths/volts\n",
      "qy =  35.8173775897 +/- 0.00219381414467  lengths/volts\n"
     ]
    },
    {
     "data": {
      "image/png": "[encoded data removed]",
      "text/plain": [
       "<matplotlib.figure.Figure at 0x7fa99465d0b8>"
      ]
     },
     "metadata": {},
     "output_type": "display_data"
    }
   ],
   "source": [
    "# QPD CALIBRATION\n",
    "# Find qpd voltage to distance conversion factors qx and qy as functions of laser power\n",
    "\n",
    "fixed_data = load_data('opttrap/' + FIXED_DATA[0])\n",
    "\n",
    "# rebin data\n",
    "BINS = 100\n",
    "fixed_data['bin'] = pd.cut(fixed_data['sgx'], bins=BINS)\n",
    "meanbin = fixed_data.groupby('bin').mean()\n",
    "# TODO: discuss std err on the mean is a good measure of error\n",
    "stdbin = fixed_data.groupby('bin').std()/(len(fixed_data)/BINS)**.5 \n",
    "\n",
    "# plot data\n",
    "#plt.plot(meanbin['sgx'], meanbin['qpdx'])\n",
    "#plt.show()\n",
    "\n",
    "# select linear range\n",
    "SG1 = 42\n",
    "SG2 = 53\n",
    "\n",
    "popt, perr, redchisq = utils.fit_model(meanbin['sgx'][SG1:SG2], meanbin['qpdx'][SG1:SG2], stdbin['qpdx'][SG1:SG2], (-1, 10), linear)\n",
    "print(redchisq)\n",
    "qx = kx / abs(popt[0]) # [lengths / sg volts] * [sg volts / qpd volts]\n",
    "eqx = ((ekx/kx)**2 + (perr[0]/popt[0])**2)**.5\n",
    "print('qx = ', qx, '+/-', eqx, ' lengths/volts')\n",
    "\n",
    "# assume symmetry until we have more data\n",
    "qy = qx\n",
    "eqy = eqx\n",
    "print('qy = ', qy, '+/-', eqy, ' lengths/volts')\n",
    "\n",
    "utils.plot_data(meanbin['sgx'][SG1:SG2], meanbin['qpdx'][SG1:SG2], stdbin['qpdx'][SG1:SG2])\n",
    "utils.plot_model(meanbin['sgx'][SG1:SG2], linear, popt, 'r', '')\n",
    "plt.show()"
   ]
  },
  {
   "cell_type": "code",
   "execution_count": 16,
   "metadata": {},
   "outputs": [
    {
     "name": "stdout",
     "output_type": "stream",
     "text": [
      "<r^2> =  0.056785874271 +/- 0.000150526918418\n"
     ]
    }
   ],
   "source": [
    "# EQUIPARTITION THEOREM ANALYSIS\n",
    "# \\alpha <r^2> = k_B T\n",
    "\n",
    "# TODO: adjust for stage movement???\n",
    "\n",
    "floating_data = load_data('opttrap/' + FLOATING_DATA[0])\n",
    "\n",
    "# calculate <r^2> with correction for <r>\n",
    "# this is the same as the variance\n",
    "var = floating_data.var()\n",
    "varx = var['qpdx']\n",
    "vary = var['qpdy']\n",
    "\n",
    "# calculate the error on the variance\n",
    "# by averaging the errors on the squared x and y redsiduals\n",
    "floating_data['erxsq'] = (2 * (floating_data['qpdx'] - floating_data['qpdx'].mean()) * 2*5e-8)**2\n",
    "floating_data['erysq'] = (2 * (floating_data['qpdy'] - floating_data['qpdy'].mean()) * 2*5e-8)**2 \n",
    "evarx = floating_data['erxsq'].mean()**.5\n",
    "evary = floating_data['erysq'].mean()**.5\n",
    "\n",
    "r2 = qx**2 * varx + qy**2 * vary\n",
    "er2 = (qx**2 * varx) * ((2*qx*eqx / qx)**2 + (evarx / varx)**2)**.5 \n",
    "+ (qy**2 * vary) * ((2*qy*eqy / qy)**2 + (evary / vary)**2)**.5\n",
    "\n",
    "print('<r^2> = ',  r2, '+/-', er2)"
   ]
  },
  {
   "cell_type": "code",
   "execution_count": 13,
   "metadata": {},
   "outputs": [
    {
     "name": "stdout",
     "output_type": "stream",
     "text": [
      "kB =  7.36383425848e-05 +/- 1.82984087214e-07\n"
     ]
    }
   ],
   "source": [
    "# Assuming we're looking for k_B\n",
    "\n",
    "# Temperature based on my memory (fix with actual)\n",
    "t = 22.4 + 273\n",
    "et = .1\n",
    "\n",
    "# Need to get alpha from a different calculation\n",
    "a = 1 # dummy\n",
    "ea = 0 # dummy\n",
    "\n",
    "kB = a * r2 / t\n",
    "ekB = kB * ((ea / a)**2 + (er2 / r2)**2 + (et / t)**2)**.5\n",
    "print('kB = ', kB, '+/-', ekB)"
   ]
  },
  {
   "cell_type": "code",
   "execution_count": 26,
   "metadata": {},
   "outputs": [
    {
     "data": {
      "image/png": "[encoded data removed]",
      "text/plain": [
       "<matplotlib.figure.Figure at 0x7fa9940997f0>"
      ]
     },
     "metadata": {},
     "output_type": "display_data"
    },
    {
     "data": {
      "text/plain": [
       "<matplotlib.axes._subplots.AxesSubplot at 0x7fa9940f69e8>"
      ]
     },
     "execution_count": 26,
     "metadata": {},
     "output_type": "execute_result"
    },
    {
     "data": {
      "image/png": "[encoded data removed]",
      "text/plain": [
       "<matplotlib.figure.Figure at 0x7fa993e7bf60>"
      ]
     },
     "metadata": {},
     "output_type": "display_data"
    }
   ],
   "source": [
    "# PSD Analysis\n",
    "floating_data = load_data('opttrap/' + FLOATING_DATA[0])\n",
    "freq = np.fft.fftfreq(len(floating_data), floating_data['qpdx'])\n",
    "plt.plot(freq)\n",
    "plt.show()\n",
    "freq.hist(bins=1000)"
   ]
  }
 ],
 "metadata": {
  "kernelspec": {
   "display_name": "Python 3",
   "language": "python",
   "name": "python3"
  },
  "language_info": {
   "codemirror_mode": {
    "name": "ipython",
    "version": 3
   },
   "file_extension": ".py",
   "mimetype": "text/x-python",
   "name": "python",
   "nbconvert_exporter": "python",
   "pygments_lexer": "ipython3",
   "version": "3.6.2"
  }
 },
 "nbformat": 4,
 "nbformat_minor": 2
}
