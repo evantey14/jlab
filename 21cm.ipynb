{
 "cells": [
  {
   "cell_type": "code",
   "execution_count": 1,
   "metadata": {},
   "outputs": [],
   "source": [
    "import utils\n",
    "import numpy as np\n",
    "import matplotlib.pyplot as plt\n",
    "%matplotlib inline"
   ]
  },
  {
   "cell_type": "code",
   "execution_count": 2,
   "metadata": {},
   "outputs": [],
   "source": [
    "# load constants\n",
    "FREQ_START = 1419.84\n",
    "FREQ_STEP = 0.00781250\n",
    "RECORDINGMODE = 4\n",
    "NBINS = 148\n",
    "tsys = 0"
   ]
  },
  {
   "cell_type": "code",
   "execution_count": 127,
   "metadata": {},
   "outputs": [],
   "source": [
    "# set data indices\n",
    "CMD = 0\n",
    "DATA_START = 12\n",
    "\n",
    "# load raw data from rad file. \n",
    "# returns calibration tsys and a matrix where each row has form:\n",
    "# CMD, TIMESTAMP, AZ, EL, AZOFF, ELOFF, GLON, GLAT, FREQ_START, FREQ_STEP, RECORDINGMODE, # OF BINS, *DATA (in K)\n",
    "def load_data(file):\n",
    "    with open(file) as f:\n",
    "        data = []\n",
    "        lines = f.readlines()\n",
    "        for i in range(len(lines)):\n",
    "            if 'cmd' in lines[i]: # comments with 'cmd' indicate execution of a line from the .cmd file\n",
    "                data.append([lines[i]] + lines[i+1].split()[:-2]) # ignore vlsr data\n",
    "            elif 'tsys' in lines[i]:\n",
    "                tsys = int(lines[i].split()[2]) # hardcode location of tsys value\n",
    "        return tsys, np.array(data)"
   ]
  },
  {
   "cell_type": "markdown",
   "metadata": {},
   "source": [
    "# Sun Sweep Analysis"
   ]
  },
  {
   "cell_type": "markdown",
   "metadata": {},
   "source": [
    "### TODO:\n",
    "* add a parameter for horizontal shift\n",
    "* decide what to do with the vertical shift (theoretically we should subtract tsys from everything, but this makes some values negative\n",
    "* all sweeps except 171110-01 are broken\n",
    "* find the aperture of the SRT"
   ]
  },
  {
   "cell_type": "code",
   "execution_count": 144,
   "metadata": {},
   "outputs": [],
   "source": [
    "# remove background t from data\n",
    "def remove_background(sweep, tsys):\n",
    "    remove_background = sweep - np.min(sweep)\n",
    "    drop_negatives = np.where(remove_background > 0, remove_background, 0)\n",
    "    return remove_background\n",
    "\n",
    "# convert antenna temperature to brightness temperature\n",
    "def antennaT_to_brightnessT(sweep):\n",
    "    ANTENNA_ANG_DIAM = 7\n",
    "    SOURCE_ANG_DIAM = .5\n",
    "    POLARIZATION_FACTOR = 2 # antenna only measures 1 polarization direction\n",
    "    return sweep * (ANTENNA_ANG_DIAM / SOURCE_ANG_DIAM)**2 * POLARIZATION_FACTOR\n",
    "\n",
    "# process sunsweep data\n",
    "# input: full rows from load_data\n",
    "# output: avg brightness temperature for each angle with error\n",
    "def process_sunsweep(raw_data):\n",
    "    # TODO: DATA_START should be calcuated from raw_data rather than stored globally\n",
    "    rm_metadata = np.asfarray(raw_data[:, DATA_START:], float)\n",
    "    avg_antennaT = np.mean(rm_metadata, axis=1)\n",
    "    rm_bg_antennaT = remove_background(avg_antennaT, tsys)\n",
    "    avg_brightnessT = antennaT_to_brightnessT(rm_bg_antennaT)\n",
    "\n",
    "    err_antennaT = np.sqrt(avg_antennaT)\n",
    "    err_brightnessT = antennaT_to_brightnessT(err_antennaT)\n",
    "    \n",
    "    utils.init_plot()\n",
    "    utils.plot_data(range(len(avg_brightnessT)), avg_brightnessT, err_brightnessT)\n",
    "    plt.show()\n",
    "    \n",
    "    return avg_brightnessT, err_brightnessT"
   ]
  },
  {
   "cell_type": "code",
   "execution_count": 147,
   "metadata": {},
   "outputs": [],
   "source": [
    "# define diffraction model\n",
    "# TODO: note that the aperture is left floating. we should try to find the actual value for this.\n",
    "import scipy.special\n",
    "def circular_diffraction(theta, I, a):\n",
    "    k = 29.7695032399\n",
    "    return np.where(theta == 0, I, I * ( (2 * scipy.special.j1(k * a * np.sin(theta))) / (k * a * np.sin(theta)) )**2)"
   ]
  },
  {
   "cell_type": "code",
   "execution_count": 175,
   "metadata": {},
   "outputs": [],
   "source": [
    "# load data to tsys, raw\n",
    "file = '21cm/sunsweeps/171110-01.rad'\n",
    "tsys, raw = load_data(file)"
   ]
  },
  {
   "cell_type": "code",
   "execution_count": 176,
   "metadata": {},
   "outputs": [],
   "source": [
    "# select rows to analyze\n",
    "# TODO: make more robust selection mechanism (perhaps by adding comments to the cmd file?)\n",
    "azsweep = np.array([raw[i] for i in range(5, 36)])\n",
    "elsweep = np.array([raw[i] for i in range(36, 67)])"
   ]
  },
  {
   "cell_type": "code",
   "execution_count": 177,
   "metadata": {},
   "outputs": [
    {
     "data": {
      "image/png": "[encoded data removed]",
      "text/plain": [
       "<matplotlib.figure.Figure at 0x7f66ea1ba390>"
      ]
     },
     "metadata": {},
     "output_type": "display_data"
    },
    {
     "name": "stdout",
     "output_type": "stream",
     "text": [
      "[  3.18047046e+04   7.65961592e-01] [  2.44678506e+03   5.57088935e-02] 39.3327695473\n"
     ]
    },
    {
     "name": "stderr",
     "output_type": "stream",
     "text": [
      "/home/evan/.env/jlab/lib/python3.6/site-packages/ipykernel_launcher.py:6: RuntimeWarning: invalid value encountered in true_divide\n",
      "  \n",
      "/home/evan/.env/jlab/lib/python3.6/site-packages/ipykernel_launcher.py:6: RuntimeWarning: invalid value encountered in double_scalars\n",
      "  \n"
     ]
    }
   ],
   "source": [
    "x = np.array([i*2*3.14/360 for i in range(-15, 16, 1)])\n",
    "y, ey = process_sunsweep(elsweep)\n",
    "\n",
    "popt, perr, chisq = utils.fit_model(x, y, ey, (30000, 1), circular_diffraction)\n",
    "print(popt, perr, chisq)"
   ]
  },
  {
   "cell_type": "code",
   "execution_count": 178,
   "metadata": {},
   "outputs": [
    {
     "name": "stderr",
     "output_type": "stream",
     "text": [
      "/home/evan/.env/jlab/lib/python3.6/site-packages/ipykernel_launcher.py:6: RuntimeWarning: invalid value encountered in double_scalars\n",
      "  \n"
     ]
    },
    {
     "data": {
      "image/png": "[encoded data removed]",
      "text/plain": [
       "<matplotlib.figure.Figure at 0x7f66ea1bab00>"
      ]
     },
     "metadata": {},
     "output_type": "display_data"
    }
   ],
   "source": [
    "utils.init_plot()\n",
    "utils.plot_data(x, y, ey)\n",
    "utils.plot_model(x, circular_diffraction, popt, 'r', '')\n",
    "plt.show()"
   ]
  }
 ],
 "metadata": {
  "kernelspec": {
   "display_name": "Python 3",
   "language": "python",
   "name": "python3"
  },
  "language_info": {
   "codemirror_mode": {
    "name": "ipython",
    "version": 3
   },
   "file_extension": ".py",
   "mimetype": "text/x-python",
   "name": "python",
   "nbconvert_exporter": "python",
   "pygments_lexer": "ipython3",
   "version": "3.6.2"
  }
 },
 "nbformat": 4,
 "nbformat_minor": 2
}
