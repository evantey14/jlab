{
 "cells": [
  {
   "cell_type": "code",
   "execution_count": 1,
   "metadata": {},
   "outputs": [],
   "source": [
    "import utils\n",
    "import numpy as np\n",
    "import matplotlib.pyplot as plt\n",
    "%matplotlib inline"
   ]
  },
  {
   "cell_type": "code",
   "execution_count": 2,
   "metadata": {},
   "outputs": [],
   "source": [
    "# load constants\n",
    "FREQ_START = 1419.84\n",
    "FREQ_STEP = 0.00781250\n",
    "RECORDINGMODE = 4\n",
    "NBINS = 148\n",
    "tsys = 0"
   ]
  },
  {
   "cell_type": "code",
   "execution_count": 3,
   "metadata": {},
   "outputs": [],
   "source": [
    "# set data indices\n",
    "CMD = 0\n",
    "DATA_START = 12\n",
    "\n",
    "# load data from rad file. \n",
    "# returns calibration tsys and a matrix where each row has form:\n",
    "# CMD, TIMESTAMP, AZ, EL, AZOFF, ELOFF, GLON, GLAT, FREQ_START, FREQ_STEP, RECORDINGMODE, # OF BINS, *DATA (in K)\n",
    "def load_data(file):\n",
    "    with open(file) as f:\n",
    "        data = []\n",
    "        lines = f.readlines()\n",
    "        for i in range(len(lines)):\n",
    "            if 'cmd' in lines[i]: # comments with 'cmd' indicate execution of a line from the .cmd file\n",
    "                data.append([lines[i]] + lines[i+1].split()[:-2]) # ignore vlsr data\n",
    "            elif 'tsys' in lines[i]:\n",
    "                tsys = int(lines[i].split()[2]) # hardcode location of tsys value\n",
    "        return tsys, np.array(data)"
   ]
  },
  {
   "cell_type": "markdown",
   "metadata": {},
   "source": [
    "# Sun Sweep Analysis"
   ]
  },
  {
   "cell_type": "code",
   "execution_count": 4,
   "metadata": {},
   "outputs": [],
   "source": [
    "# load data to tsys, raw\n",
    "file = '21cm/sunsweeps/171103-01.rad'\n",
    "tsys, raw = load_data(file)"
   ]
  },
  {
   "cell_type": "code",
   "execution_count": 5,
   "metadata": {},
   "outputs": [],
   "source": [
    "# select rows to analyze\n",
    "# TODO: make more robust selection mechanism (perhaps by adding comments to the cmd file?)\n",
    "azsweep = np.array([row for row in raw if ('offset' in row[CMD] and '0' == row[CMD][-2])])\n",
    "elsweep = np.array([row for row in raw if 'offset 0' in row[CMD]])\n",
    "\n",
    "# 171103-01.rad is an invalid file. so here's a temporary fix:\n",
    "azsweep = azsweep[:31]"
   ]
  },
  {
   "cell_type": "code",
   "execution_count": 46,
   "metadata": {},
   "outputs": [],
   "source": [
    "def remove_background(sweep, tsys):\n",
    "    remove_background = sweep - tsys\n",
    "    drop_negatives = np.where(remove_background > 0, remove_background, 0)\n",
    "    return drop_negatives\n",
    "\n",
    "def antennaT_to_brightnessT(sweep):\n",
    "    ANTENNA_ANG_DIAM = 7\n",
    "    SOURCE_ANG_DIAM = .5\n",
    "    POLARIZATION_FACTOR = 2 # antenna only measures 1 polarization direction\n",
    "    return sweep * (ANTENNA_ANG_DIAM / SOURCE_ANG_DIAM)**2 * POLARIZATION_FACTOR"
   ]
  },
  {
   "cell_type": "code",
   "execution_count": 47,
   "metadata": {},
   "outputs": [
    {
     "name": "stdout",
     "output_type": "stream",
     "text": [
      "[  0.           0.           0.           0.           0.           0.           0.\n",
      "   0.           0.           0.           9.99864865  25.23310811\n",
      "  46.29054054  68.37027027  83.31824324  93.63986486  88.3         81.13175676\n",
      "  60.77972973  42.22162162  19.83378378   8.17094595   0.           0.           0.\n",
      "   0.           0.           0.           0.           0.           0.        ]\n"
     ]
    },
    {
     "data": {
      "image/png": "[encoded data removed]",
      "text/plain": [
       "<matplotlib.figure.Figure at 0x7f66e9eda8d0>"
      ]
     },
     "metadata": {},
     "output_type": "display_data"
    }
   ],
   "source": [
    "# process data\n",
    "rm_metadata = np.asfarray(azsweep[:, DATA_START:], float)\n",
    "avg_antennaT = np.mean(rm_metadata, axis=1)\n",
    "rm_bg_antennaT = remove_background(avg_antennaT, tsys)\n",
    "avg_brightnessT = antennaT_to_brightnessT(rm_bg_antennaT)\n",
    "\n",
    "err_antennaT = np.sqrt(avg_antennaT)\n",
    "err_brightnessT = antennaT_to_brightnessT(err_antennaT)\n",
    "\n",
    "print(rm_bg_antennaT)\n",
    "\n",
    "utils.init_plot()\n",
    "utils.plot_data(range(31), avg_brightnessT, err_brightnessT)\n",
    "plt.show()"
   ]
  },
  {
   "cell_type": "code",
   "execution_count": 42,
   "metadata": {},
   "outputs": [],
   "source": [
    "# define diffraction model\n",
    "import scipy.special\n",
    "def circular_diffraction(theta, I, a):\n",
    "    k = 29.7695032399\n",
    "    return np.where(theta == 0, I, I * ( (2 * scipy.special.j1(k * a * np.sin(theta))) / (k * a * np.sin(theta)) )**2)\n",
    "    "
   ]
  },
  {
   "cell_type": "code",
   "execution_count": 43,
   "metadata": {},
   "outputs": [
    {
     "name": "stdout",
     "output_type": "stream",
     "text": [
      "[  3.66580475e+04   9.58788007e-01] [  3.25683168e+03   8.30164939e-02] 13.0745730176\n"
     ]
    },
    {
     "name": "stderr",
     "output_type": "stream",
     "text": [
      "/home/evan/.env/jlab/lib/python3.6/site-packages/ipykernel_launcher.py:5: RuntimeWarning: invalid value encountered in true_divide\n",
      "  \"\"\"\n",
      "/home/evan/.env/jlab/lib/python3.6/site-packages/ipykernel_launcher.py:5: RuntimeWarning: invalid value encountered in double_scalars\n",
      "  \"\"\"\n"
     ]
    }
   ],
   "source": [
    "x = np.array([i*2*3.14/360 for i in range(-15, 16, 1)])\n",
    "y = avg_brightnessT\n",
    "ey = err_brightnessT\n",
    "\n",
    "popt, perr, chisq = utils.fit_model(x, y, ey, (30000, 1), circular_diffraction)\n",
    "print(popt, perr, chisq)"
   ]
  },
  {
   "cell_type": "code",
   "execution_count": 44,
   "metadata": {},
   "outputs": [
    {
     "name": "stderr",
     "output_type": "stream",
     "text": [
      "/home/evan/.env/jlab/lib/python3.6/site-packages/ipykernel_launcher.py:5: RuntimeWarning: invalid value encountered in double_scalars\n",
      "  \"\"\"\n"
     ]
    },
    {
     "data": {
      "image/png": "[encoded data removed]",
      "text/plain": [
       "<matplotlib.figure.Figure at 0x7f66e9fb1a20>"
      ]
     },
     "metadata": {},
     "output_type": "display_data"
    }
   ],
   "source": [
    "utils.init_plot()\n",
    "utils.plot_data(x, y, ey)\n",
    "utils.plot_model(x, circular_diffraction, popt, 'r', '')\n",
    "plt.show()"
   ]
  }
 ],
 "metadata": {
  "kernelspec": {
   "display_name": "Python 3",
   "language": "python",
   "name": "python3"
  },
  "language_info": {
   "codemirror_mode": {
    "name": "ipython",
    "version": 3
   },
   "file_extension": ".py",
   "mimetype": "text/x-python",
   "name": "python",
   "nbconvert_exporter": "python",
   "pygments_lexer": "ipython3",
   "version": "3.6.2"
  }
 },
 "nbformat": 4,
 "nbformat_minor": 2
}
